{
 "cells": [
  {
   "cell_type": "code",
   "execution_count": null,
   "id": "8f23fad5-e708-4416-9e61-477a50556520",
   "metadata": {},
   "outputs": [],
   "source": [
    "{r, warning=FALSE, message=FALSE}\n",
    "library(rvest)\n",
    "library(tidyverse)\n",
    "library(rlist)\n",
    "\n",
    "\n",
    "{r, warning=FALSE, message=FALSE, tidy=TRUE, tidy.opts=list(width.cutoff=60)}\n",
    "scrape <- function(url) {\n",
    "  page <- read_html(url)\n",
    "  table <- html_nodes(page, 'table') \n",
    "  table <- html_table(table, fill=TRUE) \n",
    "  dframe <- list.stack(table) \n",
    "    \n",
    "# stack the list into a data frame\n",
    "  colnames(dframe) <- dframe[1,]\n",
    "  dframe <- dframe %>% filter(!Dato==\"Dato\")\n",
    "  dframe <- dframe %>% separate(Dato, \n",
    "                                into = c(\"Dag\", \"Dato\"), \n",
    "                                sep = \"(?<=[A-Za-z])(?=[0-9])\")\n",
    "  dframe <- dframe[-length(dframe$Dag),]\n",
    "  dframe$Dato <- as.Date(dframe$Dato, format=\"%d.%m.%Y\")\n",
    "  dframe$Uke <- strftime(dframe$Dato, format = \"%V\")\n",
    "  dframe <- dframe %>% select(Dag,Dato,Uke,Tid,Rom)\n",
    "  return(dframe)\n",
    "}\n",
    "url_list <- \n",
    "  list(\"https://timeplan.uit.no/emne_timeplan.php?sem=22v&module%5B%5D=SOK-1005-1&week=1-20&View=list\",\"https://timeplan.uit.no/emne_timeplan.php?sem=22v&module%5B%5D=SOK-1006-1&week=1-20&View=list\",\"https://timeplan.uit.no/emne_timeplan.php?sem=22v&module%5B%5D=SOK-1016-1&week=1-20&View=list\")\n",
    "map(url_list, scrape)\n",
    "\n"
   ]
  }
 ],
 "metadata": {
  "kernelspec": {
   "display_name": "R",
   "language": "R",
   "name": "ir"
  },
  "language_info": {
   "codemirror_mode": "r",
   "file_extension": ".r",
   "mimetype": "text/x-r-source",
   "name": "R",
   "pygments_lexer": "r",
   "version": "4.1.2"
  }
 },
 "nbformat": 4,
 "nbformat_minor": 5
}
