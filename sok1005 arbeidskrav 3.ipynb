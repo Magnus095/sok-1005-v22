{
 "cells": [
  {
   "cell_type": "code",
   "execution_count": null,
   "id": "8f23fad5-e708-4416-9e61-477a50556520",
   "metadata": {},
   "outputs": [],
   "source": [
    "library(tidyverse)\n",
    "library(rvest)\n",
    "library(readr)\n",
    "library(xml2)\n",
    "library(ggplot2)\n",
    "\n",
    "# Oppgave 1:\n",
    "\n",
    "# Last inn nettside\n",
    "\n",
    "bil <- read_html(\"https://www.motor.no/aktuelt/motors-store-vintertest-av-rekkevidde-pa-elbiler/217132/bil.html\")\n",
    "\n",
    "# Gjør \"bil\" til tabell\n",
    "\n",
    "tables <- bil %>% html_table(fill = TRUE)\n",
    "\n",
    "# Finner at den tabellen vi skal ha er den første \n",
    "\n",
    "table1 <- tables[[1]]\n",
    "\n",
    "colnames(table1) <- c(\"Modell (temp. varierte fra 0° til -10°)\", \"WLTP-tall\", \"STOPP\", \"Avvik\")\n",
    "\n",
    "# Lager graf \n",
    "\n",
    "Motor1 %>%\n",
    "  ggplot(aes(x = Rekkevidde, y = STOPP)) +\n",
    "  geom_point() +\n",
    "  geom_abline(color = \"red\") +\n",
    "  labs(\n",
    "    title = \"Rekkevidde tapt i kulden\",\n",
    "    y = \"STOPP\",\n",
    "    x = \"WLTP\")\n",
    "\n"
   ]
  }
 ],
 "metadata": {
  "kernelspec": {
   "display_name": "R",
   "language": "R",
   "name": "ir"
  },
  "language_info": {
   "codemirror_mode": "r",
   "file_extension": ".r",
   "mimetype": "text/x-r-source",
   "name": "R",
   "pygments_lexer": "r",
   "version": "4.1.2"
  }
 },
 "nbformat": 4,
 "nbformat_minor": 5
}
